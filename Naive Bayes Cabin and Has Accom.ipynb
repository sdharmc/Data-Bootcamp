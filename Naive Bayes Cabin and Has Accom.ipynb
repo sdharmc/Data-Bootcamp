{
 "cells": [
  {
   "cell_type": "code",
   "execution_count": 132,
   "metadata": {},
   "outputs": [],
   "source": [
    "import pandas as pd\n",
    "\n",
    "Location = \"titanicNEW.xlsx\"\n",
    "df = pd.read_excel(Location)\n",
    "#df.head()\n"
   ]
  },
  {
   "cell_type": "code",
   "execution_count": 133,
   "metadata": {},
   "outputs": [],
   "source": [
    "import numpy as np\n",
    "\n",
    "def prob_a_b(a,b):\n",
    "    return a / b\n"
   ]
  },
  {
   "cell_type": "code",
   "execution_count": 134,
   "metadata": {},
   "outputs": [],
   "source": [
    "survived = len(df[df['survived']==1])\n",
    "total = len(df)\n",
    "cabin = len(df[df['cabin'].notnull()])\n",
    "cabin_survived = (len(df[df['cabin'].notnull()]) & len(df[df['survived']==1]))\n",
    "hasfamily = len(df[df['hasfamily']==1])\n",
    "hasfamily_surivived = (len(df[df['hasfamily']==1]) & len(df[df['survived']==1]))\n"
   ]
  },
  {
   "cell_type": "code",
   "execution_count": 135,
   "metadata": {},
   "outputs": [],
   "source": [
    "#cabin_survived\n",
    "#(len(df[df['cabin'].notnull()]) & len(df[df['survived']==1]))/len(df[df['survived']==1])\n",
    "#prob_survived\n",
    "#len(df[df['survived']==1])/len(df)\n",
    "#prob_cabin\n",
    "#len(df[df['cabin'].notnull()])/len(df)\n",
    "#prob of survival given cabin\n",
    "\n",
    "#((len(df[df['cabin'].notnull()]) & len(df[df['survived']==1]))/len(df[df['survived']==1])) * (len(df[df['survived']==1])/len(df))/ (len(df[df['cabin'].notnull()])/len(df))\n"
   ]
  },
  {
   "cell_type": "code",
   "execution_count": 136,
   "metadata": {},
   "outputs": [],
   "source": [
    "cs= prob_a_b(cabin_survived, survived)\n",
    "st= prob_a_b(survived,total)\n",
    "ct=prob_a_b(cabin,total)"
   ]
  },
  {
   "cell_type": "code",
   "execution_count": 137,
   "metadata": {},
   "outputs": [],
   "source": [
    "def multiply(x,y,w):\n",
    "    z = x * y * w\n",
    "    return z"
   ]
  },
  {
   "cell_type": "code",
   "execution_count": 138,
   "metadata": {},
   "outputs": [
    {
     "data": {
      "text/plain": [
       "0.8843537414965985"
      ]
     },
     "execution_count": 138,
     "metadata": {},
     "output_type": "execute_result"
    }
   ],
   "source": [
    "# Prob of Survival given Cabin\n",
    "\n",
    "multiply (cs,st,(1/ct))"
   ]
  },
  {
   "cell_type": "code",
   "execution_count": 139,
   "metadata": {},
   "outputs": [],
   "source": [
    "hfs=prob_a_b(hasfamily_surivived,survived)\n",
    "hf=prob_a_b(hasfamily,total)"
   ]
  },
  {
   "cell_type": "code",
   "execution_count": 140,
   "metadata": {},
   "outputs": [
    {
     "data": {
      "text/plain": [
       "0.9333333333333332"
      ]
     },
     "execution_count": 140,
     "metadata": {},
     "output_type": "execute_result"
    }
   ],
   "source": [
    "# Prob of Survival given hasfamily\n",
    "\n",
    "multiply (hfs,st,(1/hf))"
   ]
  },
  {
   "cell_type": "code",
   "execution_count": null,
   "metadata": {},
   "outputs": [],
   "source": []
  }
 ],
 "metadata": {
  "kernelspec": {
   "display_name": "Python 3",
   "language": "python",
   "name": "python3"
  },
  "language_info": {
   "codemirror_mode": {
    "name": "ipython",
    "version": 3
   },
   "file_extension": ".py",
   "mimetype": "text/x-python",
   "name": "python",
   "nbconvert_exporter": "python",
   "pygments_lexer": "ipython3",
   "version": "3.6.4"
  }
 },
 "nbformat": 4,
 "nbformat_minor": 2
}
